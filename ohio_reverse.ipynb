{
 "cells": [
  {
   "cell_type": "code",
   "execution_count": 1,
   "metadata": {},
   "outputs": [],
   "source": [
    "import pandas as pd \n",
    "import csv\n",
    "import os\n",
    "import matplotlib.pyplot as plt\n",
    "import numpy as np"
   ]
  },
  {
   "cell_type": "markdown",
   "metadata": {},
   "source": [
    "### Methodolgy\n",
    "The Council for Community and Economic Research (C2ER) has annually published an unweighted average of prices accumulated from the previous three quarters since the beginning of quarter four of 2007. For the 2021 Cost of Living Index, they determined that the national average for 267 Urban Areas of the United States is COL Index 100, and they placed cities across the country in a list ranging from the most expensive to least expensive. Their Cost of Living Index measures regional differences in the cost of consumer goods and sercvices, excluding taxes and non-consumer expenditures. The index is based on six compounds: housing, utilities, grocery items, transportation, health care, and miscellaneous goods and services. However, this report would cost $275.00 per year for an electronic version, and that is not within the scope of this project.\n",
    "\n",
    "Instead, in order to get the information we need, we will do our own calculations to find out Ohio's cost of living costs based on the values already found for Minnesota. The Cost of Living Calculator available at RentCafe.com (who gets their data from the C2ER Cost of Living Index) tells us that the cost of living for Minnesota is 1% lower than the national average, whereas Ohio is 9% lower than the national average.\n",
    "\n",
    "![Minnesota COL](Datasets/Minnesota_COL_RentCafe.jpg)\n",
    "![Ohio COL](Datasets/Ohio_COL_RentCafe.jpg)"
   ]
  },
  {
   "cell_type": "code",
   "execution_count": 12,
   "metadata": {},
   "outputs": [
    {
     "data": {
      "text/plain": [
       "Index(['Area', 'Family Size', 'Number of Adults', 'Number of Workers',\n",
       "       'Number of Children', 'Age of Adults', 'Yearly Cost', 'Hourly Wage',\n",
       "       'Child Care', 'Food', 'Health Care', 'Housing', 'Transport', 'Other',\n",
       "       'Taxes'],\n",
       "      dtype='object')"
      ]
     },
     "execution_count": 12,
     "metadata": {},
     "output_type": "execute_result"
    }
   ],
   "source": [
    "csvpath = \"Megan/Resources/mn_cost_of_living_2021.csv\"\n",
    "\n",
    "mn_col = pd.read_csv(csvpath)\n",
    "mn_col.columns"
   ]
  },
  {
   "cell_type": "code",
   "execution_count": 13,
   "metadata": {},
   "outputs": [
    {
     "data": {
      "text/html": [
       "<div>\n",
       "<style scoped>\n",
       "    .dataframe tbody tr th:only-of-type {\n",
       "        vertical-align: middle;\n",
       "    }\n",
       "\n",
       "    .dataframe tbody tr th {\n",
       "        vertical-align: top;\n",
       "    }\n",
       "\n",
       "    .dataframe thead th {\n",
       "        text-align: right;\n",
       "    }\n",
       "</style>\n",
       "<table border=\"1\" class=\"dataframe\">\n",
       "  <thead>\n",
       "    <tr style=\"text-align: right;\">\n",
       "      <th></th>\n",
       "      <th>Area</th>\n",
       "      <th>Family Size</th>\n",
       "      <th>Yearly Cost</th>\n",
       "      <th>Hourly Wage</th>\n",
       "      <th>Child Care</th>\n",
       "      <th>Food</th>\n",
       "      <th>Health Care</th>\n",
       "      <th>Housing</th>\n",
       "      <th>Transport</th>\n",
       "      <th>Other</th>\n",
       "      <th>Taxes</th>\n",
       "    </tr>\n",
       "  </thead>\n",
       "  <tbody>\n",
       "    <tr>\n",
       "      <th>0</th>\n",
       "      <td>Aitkin County</td>\n",
       "      <td>1</td>\n",
       "      <td>30874</td>\n",
       "      <td>14.84</td>\n",
       "      <td>0</td>\n",
       "      <td>341</td>\n",
       "      <td>191</td>\n",
       "      <td>570</td>\n",
       "      <td>863</td>\n",
       "      <td>249</td>\n",
       "      <td>359</td>\n",
       "    </tr>\n",
       "    <tr>\n",
       "      <th>1</th>\n",
       "      <td>Aitkin County</td>\n",
       "      <td>1</td>\n",
       "      <td>30471</td>\n",
       "      <td>14.65</td>\n",
       "      <td>0</td>\n",
       "      <td>353</td>\n",
       "      <td>152</td>\n",
       "      <td>570</td>\n",
       "      <td>863</td>\n",
       "      <td>253</td>\n",
       "      <td>348</td>\n",
       "    </tr>\n",
       "    <tr>\n",
       "      <th>2</th>\n",
       "      <td>Anoka County</td>\n",
       "      <td>1</td>\n",
       "      <td>36938</td>\n",
       "      <td>17.76</td>\n",
       "      <td>0</td>\n",
       "      <td>354</td>\n",
       "      <td>161</td>\n",
       "      <td>1066</td>\n",
       "      <td>680</td>\n",
       "      <td>389</td>\n",
       "      <td>428</td>\n",
       "    </tr>\n",
       "    <tr>\n",
       "      <th>3</th>\n",
       "      <td>Anoka County</td>\n",
       "      <td>1</td>\n",
       "      <td>37268</td>\n",
       "      <td>17.92</td>\n",
       "      <td>0</td>\n",
       "      <td>342</td>\n",
       "      <td>199</td>\n",
       "      <td>1066</td>\n",
       "      <td>680</td>\n",
       "      <td>385</td>\n",
       "      <td>434</td>\n",
       "    </tr>\n",
       "    <tr>\n",
       "      <th>4</th>\n",
       "      <td>Becker County</td>\n",
       "      <td>1</td>\n",
       "      <td>28659</td>\n",
       "      <td>13.78</td>\n",
       "      <td>0</td>\n",
       "      <td>353</td>\n",
       "      <td>152</td>\n",
       "      <td>592</td>\n",
       "      <td>722</td>\n",
       "      <td>259</td>\n",
       "      <td>310</td>\n",
       "    </tr>\n",
       "  </tbody>\n",
       "</table>\n",
       "</div>"
      ],
      "text/plain": [
       "                               Area  Family Size  Yearly Cost  Hourly Wage  \\\n",
       "0  Aitkin County                               1        30874        14.84   \n",
       "1  Aitkin County                               1        30471        14.65   \n",
       "2  Anoka County                                1        36938        17.76   \n",
       "3  Anoka County                                1        37268        17.92   \n",
       "4  Becker County                               1        28659        13.78   \n",
       "\n",
       "   Child Care  Food  Health Care  Housing  Transport  Other  Taxes  \n",
       "0           0   341          191      570        863    249    359  \n",
       "1           0   353          152      570        863    253    348  \n",
       "2           0   354          161     1066        680    389    428  \n",
       "3           0   342          199     1066        680    385    434  \n",
       "4           0   353          152      592        722    259    310  "
      ]
     },
     "execution_count": 13,
     "metadata": {},
     "output_type": "execute_result"
    }
   ],
   "source": [
    "mn_col = mn_col[[\"Area\", \"Family Size\", \"Yearly Cost\", \"Hourly Wage\", \"Child Care\", \"Food\", \"Health Care\", \"Housing\", \"Transport\", \"Other\", \"Taxes\"]]\n",
    "mn_col.head()"
   ]
  },
  {
   "cell_type": "code",
   "execution_count": 18,
   "metadata": {},
   "outputs": [
    {
     "data": {
      "text/plain": [
       "Family Size        3.416667\n",
       "Yearly Cost    54377.878115\n",
       "Hourly Wage       20.259903\n",
       "Child Care       414.593847\n",
       "Food             932.501558\n",
       "Health Care      512.090343\n",
       "Housing          976.204050\n",
       "Transport        794.956776\n",
       "Other            522.539720\n",
       "Taxes            378.607477\n",
       "dtype: float64"
      ]
     },
     "execution_count": 18,
     "metadata": {},
     "output_type": "execute_result"
    }
   ],
   "source": [
    "# MN Average Family Size is 3.4 (rounded down to 3)\n",
    "mn_avg = mn_col.mean()\n",
    "mn_avg"
   ]
  },
  {
   "cell_type": "code",
   "execution_count": 38,
   "metadata": {},
   "outputs": [
    {
     "name": "stdout",
     "output_type": "stream",
     "text": [
      "National Average (Food): 904.5265109034268\n",
      "National Average (Health Care): 481.3649221183801\n",
      "National Average (Housing): 1083.586495327103\n",
      "National Average (Transport): 810.8559112149533\n",
      "National Average (Other): 485.96193925233644\n"
     ]
    },
    {
     "data": {
      "text/html": [
       "<div>\n",
       "<style scoped>\n",
       "    .dataframe tbody tr th:only-of-type {\n",
       "        vertical-align: middle;\n",
       "    }\n",
       "\n",
       "    .dataframe tbody tr th {\n",
       "        vertical-align: top;\n",
       "    }\n",
       "\n",
       "    .dataframe thead th {\n",
       "        text-align: right;\n",
       "    }\n",
       "</style>\n",
       "<table border=\"1\" class=\"dataframe\">\n",
       "  <thead>\n",
       "    <tr style=\"text-align: right;\">\n",
       "      <th></th>\n",
       "      <th>Type</th>\n",
       "      <th>National Average</th>\n",
       "    </tr>\n",
       "  </thead>\n",
       "  <tbody>\n",
       "    <tr>\n",
       "      <th>0</th>\n",
       "      <td>Food</td>\n",
       "      <td>904.526511</td>\n",
       "    </tr>\n",
       "    <tr>\n",
       "      <th>1</th>\n",
       "      <td>Health Care</td>\n",
       "      <td>481.364922</td>\n",
       "    </tr>\n",
       "    <tr>\n",
       "      <th>2</th>\n",
       "      <td>Housing</td>\n",
       "      <td>1083.586495</td>\n",
       "    </tr>\n",
       "    <tr>\n",
       "      <th>3</th>\n",
       "      <td>Transport</td>\n",
       "      <td>810.855911</td>\n",
       "    </tr>\n",
       "    <tr>\n",
       "      <th>4</th>\n",
       "      <td>Other</td>\n",
       "      <td>485.961939</td>\n",
       "    </tr>\n",
       "  </tbody>\n",
       "</table>\n",
       "</div>"
      ],
      "text/plain": [
       "          Type  National Average\n",
       "0         Food        904.526511\n",
       "1  Health Care        481.364922\n",
       "2      Housing       1083.586495\n",
       "3    Transport        810.855911\n",
       "4        Other        485.961939"
      ]
     },
     "execution_count": 38,
     "metadata": {},
     "output_type": "execute_result"
    }
   ],
   "source": [
    "# Minnesota does not list Utilities as a category in their dataset. Based on a search of several cost of living calculators, the difference in utilities between Minneapolis, MN\n",
    "# Columbus, OH is 2-4% in favor of OH\n",
    "\n",
    "n_avg_food = mn_avg[\"Food\"] - (mn_avg[\"Food\"]*0.03)\n",
    "print(f\"National Average (Food): {n_avg_food}\")\n",
    "n_avg_health = mn_avg[\"Health Care\"] - (mn_avg[\"Health Care\"]*0.06)\n",
    "print(f\"National Average (Health Care): {n_avg_health}\")\n",
    "n_avg_housing = mn_avg[\"Housing\"] + (mn_avg[\"Housing\"]*0.11)\n",
    "print(f\"National Average (Housing): {n_avg_housing}\")\n",
    "n_avg_transport = mn_avg[\"Transport\"] + (mn_avg[\"Transport\"]*0.02)\n",
    "print(f\"National Average (Transport): {n_avg_transport}\")\n",
    "n_avg_other = mn_avg[\"Other\"] - (mn_avg[\"Other\"]*0.07)\n",
    "print(f\"National Average (Other): {n_avg_other}\")\n",
    "\n",
    "national_averages = pd.DataFrame(\n",
    "    {\"Type\": [\"Food\", \"Health Care\", \"Housing\", \"Transport\", \"Other\"],\n",
    "    \"National Average\": [n_avg_food, n_avg_health, n_avg_housing, n_avg_transport, n_avg_other]})\n",
    "national_averages.set_index(\"Type\")\n",
    "national_averages\n"
   ]
  },
  {
   "cell_type": "code",
   "execution_count": 24,
   "metadata": {},
   "outputs": [
    {
     "data": {
      "text/plain": [
       "Food           932.501558\n",
       "Health Care    512.090343\n",
       "Housing        976.204050\n",
       "Transport      794.956776\n",
       "Other          522.539720\n",
       "dtype: float64"
      ]
     },
     "execution_count": 24,
     "metadata": {},
     "output_type": "execute_result"
    }
   ],
   "source": [
    "almost_oh = mn_avg[[\"Food\", \"Health Care\", \"Housing\", \"Transport\", \"Other\"]]\n",
    "almost_oh"
   ]
  },
  {
   "cell_type": "code",
   "execution_count": 72,
   "metadata": {},
   "outputs": [
    {
     "name": "stdout",
     "output_type": "stream",
     "text": [
      "[932.5015576323988, 512.0903426791277, 976.2040498442368, 794.9567757009346, 522.5397196261682]\n"
     ]
    }
   ],
   "source": [
    "value_list = []\n",
    "for item in almost_oh:\n",
    "    value_list.append(item)\n",
    "\n",
    "print(value_list)"
   ]
  },
  {
   "cell_type": "code",
   "execution_count": 75,
   "metadata": {},
   "outputs": [
    {
     "data": {
      "text/html": [
       "<div>\n",
       "<style scoped>\n",
       "    .dataframe tbody tr th:only-of-type {\n",
       "        vertical-align: middle;\n",
       "    }\n",
       "\n",
       "    .dataframe tbody tr th {\n",
       "        vertical-align: top;\n",
       "    }\n",
       "\n",
       "    .dataframe thead th {\n",
       "        text-align: right;\n",
       "    }\n",
       "</style>\n",
       "<table border=\"1\" class=\"dataframe\">\n",
       "  <thead>\n",
       "    <tr style=\"text-align: right;\">\n",
       "      <th></th>\n",
       "      <th>Type</th>\n",
       "      <th>MN</th>\n",
       "    </tr>\n",
       "  </thead>\n",
       "  <tbody>\n",
       "    <tr>\n",
       "      <th>0</th>\n",
       "      <td>Food</td>\n",
       "      <td>932.501558</td>\n",
       "    </tr>\n",
       "    <tr>\n",
       "      <th>1</th>\n",
       "      <td>Health Care</td>\n",
       "      <td>512.090343</td>\n",
       "    </tr>\n",
       "    <tr>\n",
       "      <th>2</th>\n",
       "      <td>Housing</td>\n",
       "      <td>976.204050</td>\n",
       "    </tr>\n",
       "    <tr>\n",
       "      <th>3</th>\n",
       "      <td>Transport</td>\n",
       "      <td>794.956776</td>\n",
       "    </tr>\n",
       "    <tr>\n",
       "      <th>4</th>\n",
       "      <td>Other</td>\n",
       "      <td>522.539720</td>\n",
       "    </tr>\n",
       "  </tbody>\n",
       "</table>\n",
       "</div>"
      ],
      "text/plain": [
       "          Type          MN\n",
       "0         Food  932.501558\n",
       "1  Health Care  512.090343\n",
       "2      Housing  976.204050\n",
       "3    Transport  794.956776\n",
       "4        Other  522.539720"
      ]
     },
     "execution_count": 75,
     "metadata": {},
     "output_type": "execute_result"
    }
   ],
   "source": [
    "# mn_nums = almost_oh.to_frame()\n",
    "# mn_renamed = mn_nums.rename(index={0:\"Type\"}, columns={\"0\": \"Minnesota\"}, inplace=True)\n",
    "# mn_renamed.head()\n",
    "mn_dict = {\"Type\": [\"Food\", \"Health Care\", \"Housing\", \"Transport\", \"Other\"], \"MN\": value_list}\n",
    "mn_nums = pd.DataFrame(mn_dict)\n",
    "mn_nums"
   ]
  },
  {
   "cell_type": "code",
   "execution_count": 76,
   "metadata": {},
   "outputs": [
    {
     "data": {
      "text/html": [
       "<div>\n",
       "<style scoped>\n",
       "    .dataframe tbody tr th:only-of-type {\n",
       "        vertical-align: middle;\n",
       "    }\n",
       "\n",
       "    .dataframe tbody tr th {\n",
       "        vertical-align: top;\n",
       "    }\n",
       "\n",
       "    .dataframe thead th {\n",
       "        text-align: right;\n",
       "    }\n",
       "</style>\n",
       "<table border=\"1\" class=\"dataframe\">\n",
       "  <thead>\n",
       "    <tr style=\"text-align: right;\">\n",
       "      <th></th>\n",
       "      <th>Type</th>\n",
       "      <th>National Average</th>\n",
       "      <th>MN</th>\n",
       "    </tr>\n",
       "  </thead>\n",
       "  <tbody>\n",
       "    <tr>\n",
       "      <th>0</th>\n",
       "      <td>Food</td>\n",
       "      <td>904.526511</td>\n",
       "      <td>932.501558</td>\n",
       "    </tr>\n",
       "    <tr>\n",
       "      <th>1</th>\n",
       "      <td>Health Care</td>\n",
       "      <td>481.364922</td>\n",
       "      <td>512.090343</td>\n",
       "    </tr>\n",
       "    <tr>\n",
       "      <th>2</th>\n",
       "      <td>Housing</td>\n",
       "      <td>1083.586495</td>\n",
       "      <td>976.204050</td>\n",
       "    </tr>\n",
       "    <tr>\n",
       "      <th>3</th>\n",
       "      <td>Transport</td>\n",
       "      <td>810.855911</td>\n",
       "      <td>794.956776</td>\n",
       "    </tr>\n",
       "    <tr>\n",
       "      <th>4</th>\n",
       "      <td>Other</td>\n",
       "      <td>485.961939</td>\n",
       "      <td>522.539720</td>\n",
       "    </tr>\n",
       "  </tbody>\n",
       "</table>\n",
       "</div>"
      ],
      "text/plain": [
       "          Type  National Average          MN\n",
       "0         Food        904.526511  932.501558\n",
       "1  Health Care        481.364922  512.090343\n",
       "2      Housing       1083.586495  976.204050\n",
       "3    Transport        810.855911  794.956776\n",
       "4        Other        485.961939  522.539720"
      ]
     },
     "execution_count": 76,
     "metadata": {},
     "output_type": "execute_result"
    }
   ],
   "source": [
    "mn_national = pd.merge(national_averages, mn_nums, on=\"Type\")\n",
    "mn_national"
   ]
  },
  {
   "cell_type": "code",
   "execution_count": 79,
   "metadata": {},
   "outputs": [
    {
     "name": "stdout",
     "output_type": "stream",
     "text": [
      "Ohio (Food): 895.4812457943925\n",
      "Ohio (Health Care): 466.9239744548287\n",
      "Ohio (Housing): 834.3616014018693\n",
      "Ohio (Transport): 794.6387929906542\n",
      "Ohio (Other): 481.10231985981306\n"
     ]
    },
    {
     "data": {
      "text/html": [
       "<div>\n",
       "<style scoped>\n",
       "    .dataframe tbody tr th:only-of-type {\n",
       "        vertical-align: middle;\n",
       "    }\n",
       "\n",
       "    .dataframe tbody tr th {\n",
       "        vertical-align: top;\n",
       "    }\n",
       "\n",
       "    .dataframe thead th {\n",
       "        text-align: right;\n",
       "    }\n",
       "</style>\n",
       "<table border=\"1\" class=\"dataframe\">\n",
       "  <thead>\n",
       "    <tr style=\"text-align: right;\">\n",
       "      <th></th>\n",
       "      <th>Type</th>\n",
       "      <th>Ohio</th>\n",
       "    </tr>\n",
       "  </thead>\n",
       "  <tbody>\n",
       "    <tr>\n",
       "      <th>0</th>\n",
       "      <td>Food</td>\n",
       "      <td>895.481246</td>\n",
       "    </tr>\n",
       "    <tr>\n",
       "      <th>1</th>\n",
       "      <td>Health Care</td>\n",
       "      <td>466.923974</td>\n",
       "    </tr>\n",
       "    <tr>\n",
       "      <th>2</th>\n",
       "      <td>Housing</td>\n",
       "      <td>834.361601</td>\n",
       "    </tr>\n",
       "    <tr>\n",
       "      <th>3</th>\n",
       "      <td>Transport</td>\n",
       "      <td>794.638793</td>\n",
       "    </tr>\n",
       "    <tr>\n",
       "      <th>4</th>\n",
       "      <td>Other</td>\n",
       "      <td>481.102320</td>\n",
       "    </tr>\n",
       "  </tbody>\n",
       "</table>\n",
       "</div>"
      ],
      "text/plain": [
       "          Type        Ohio\n",
       "0         Food  895.481246\n",
       "1  Health Care  466.923974\n",
       "2      Housing  834.361601\n",
       "3    Transport  794.638793\n",
       "4        Other  481.102320"
      ]
     },
     "execution_count": 79,
     "metadata": {},
     "output_type": "execute_result"
    }
   ],
   "source": [
    "# Ohio amounts\n",
    "oh_food = (n_avg_food - (n_avg_food)*0.01)\n",
    "print(f\"Ohio (Food): {oh_food}\")\n",
    "oh_health = (n_avg_health - (n_avg_health)*0.03)\n",
    "print(f\"Ohio (Health Care): {oh_health}\")\n",
    "oh_housing = (n_avg_housing - (n_avg_housing)*0.23)\n",
    "print(f\"Ohio (Housing): {oh_housing}\")\n",
    "oh_transport = (n_avg_transport - (n_avg_transport)*0.02)\n",
    "print(f\"Ohio (Transport): {oh_transport}\")\n",
    "oh_other = (n_avg_other - (n_avg_other)*0.01)\n",
    "print(f\"Ohio (Other): {oh_other}\")\n",
    "\n",
    "ohio_df = pd.DataFrame(\n",
    "    {\"Type\": [\"Food\", \"Health Care\", \"Housing\", \"Transport\", \"Other\"],\n",
    "    \"Ohio\": [oh_food, oh_health, oh_housing, oh_transport, oh_other]})\n",
    "ohio_df"
   ]
  },
  {
   "cell_type": "code",
   "execution_count": 80,
   "metadata": {},
   "outputs": [
    {
     "data": {
      "text/html": [
       "<div>\n",
       "<style scoped>\n",
       "    .dataframe tbody tr th:only-of-type {\n",
       "        vertical-align: middle;\n",
       "    }\n",
       "\n",
       "    .dataframe tbody tr th {\n",
       "        vertical-align: top;\n",
       "    }\n",
       "\n",
       "    .dataframe thead th {\n",
       "        text-align: right;\n",
       "    }\n",
       "</style>\n",
       "<table border=\"1\" class=\"dataframe\">\n",
       "  <thead>\n",
       "    <tr style=\"text-align: right;\">\n",
       "      <th></th>\n",
       "      <th>Type</th>\n",
       "      <th>National Average</th>\n",
       "      <th>MN</th>\n",
       "      <th>Ohio</th>\n",
       "    </tr>\n",
       "  </thead>\n",
       "  <tbody>\n",
       "    <tr>\n",
       "      <th>0</th>\n",
       "      <td>Food</td>\n",
       "      <td>904.526511</td>\n",
       "      <td>932.501558</td>\n",
       "      <td>895.481246</td>\n",
       "    </tr>\n",
       "    <tr>\n",
       "      <th>1</th>\n",
       "      <td>Health Care</td>\n",
       "      <td>481.364922</td>\n",
       "      <td>512.090343</td>\n",
       "      <td>466.923974</td>\n",
       "    </tr>\n",
       "    <tr>\n",
       "      <th>2</th>\n",
       "      <td>Housing</td>\n",
       "      <td>1083.586495</td>\n",
       "      <td>976.204050</td>\n",
       "      <td>834.361601</td>\n",
       "    </tr>\n",
       "    <tr>\n",
       "      <th>3</th>\n",
       "      <td>Transport</td>\n",
       "      <td>810.855911</td>\n",
       "      <td>794.956776</td>\n",
       "      <td>794.638793</td>\n",
       "    </tr>\n",
       "    <tr>\n",
       "      <th>4</th>\n",
       "      <td>Other</td>\n",
       "      <td>485.961939</td>\n",
       "      <td>522.539720</td>\n",
       "      <td>481.102320</td>\n",
       "    </tr>\n",
       "  </tbody>\n",
       "</table>\n",
       "</div>"
      ],
      "text/plain": [
       "          Type  National Average          MN        Ohio\n",
       "0         Food        904.526511  932.501558  895.481246\n",
       "1  Health Care        481.364922  512.090343  466.923974\n",
       "2      Housing       1083.586495  976.204050  834.361601\n",
       "3    Transport        810.855911  794.956776  794.638793\n",
       "4        Other        485.961939  522.539720  481.102320"
      ]
     },
     "execution_count": 80,
     "metadata": {},
     "output_type": "execute_result"
    }
   ],
   "source": [
    "ohio_mn_compare = pd.merge(mn_national, ohio_df, on=\"Type\")\n",
    "ohio_mn_compare"
   ]
  },
  {
   "cell_type": "code",
   "execution_count": 81,
   "metadata": {},
   "outputs": [],
   "source": [
    "ohio_mn_compare.to_csv(\"ohio_mn_col_compare.csv\", encoding=\"utf-8\", index=False)"
   ]
  }
 ],
 "metadata": {
  "kernelspec": {
   "display_name": "Python 3.6.13 ('pythondata')",
   "language": "python",
   "name": "python3"
  },
  "language_info": {
   "codemirror_mode": {
    "name": "ipython",
    "version": 3
   },
   "file_extension": ".py",
   "mimetype": "text/x-python",
   "name": "python",
   "nbconvert_exporter": "python",
   "pygments_lexer": "ipython3",
   "version": "3.6.13"
  },
  "orig_nbformat": 4,
  "vscode": {
   "interpreter": {
    "hash": "3421649ed3ecb83f8f47bcfb645f822f431520464080c87a3b007aee15b69674"
   }
  }
 },
 "nbformat": 4,
 "nbformat_minor": 2
}
