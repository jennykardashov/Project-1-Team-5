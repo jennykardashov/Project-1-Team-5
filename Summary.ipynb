{
 "cells": [
  {
   "cell_type": "markdown",
   "metadata": {},
   "source": [
    "# Team 5 - Project 1 Analysis\n"
   ]
  },
  {
   "cell_type": "markdown",
   "metadata": {},
   "source": [
    "## Project Description:\n",
    "\n",
    "This project attempts to determine whether it is better to live in the Twin Cities Metro area or Greater Minnesota based on income to expenses ratios and changes in wages, expenses, and housing prices over time. We will attempt to answer the following questions:\n",
    "\n",
    "- What is the average income to expenses ratio for each economic development regions of Minnesota, and how do they compare to each other?\n",
    "- How does the change in average income compare with the change in housing prices in these areas over time?\n",
    "- Does the data we find for Minnesota compare well with Ohio?"
   ]
  },
  {
   "cell_type": "markdown",
   "metadata": {},
   "source": [
    "## Data Acquisition\n",
    "\n",
    "### 1) Identify Data Sources:\n",
    "- Minnesota Cost of Living (CSV) from the Minnesota Department of Economic Development (DEED) https://mn.gov/deed/data/data-tools/col/ - Used for determining cost of living expenses\n",
    "- Minnesota Quarterly Census of Employment Wages (CSV) from the Minnesota Department of Economic Development (DEED) https://mn.gov/deed/data/data-tools/qcew/ - Used for wage data\n",
    "- US Census Bureau (API) https://www.census.gov/ - Used for population data and wage data for Ohio\n",
    "- Federal Housing Finance Agency (API) (FHFA) https://www.fhfa.gov/DataTools/Downloads/Pages/House-Price-Index-Datasets.aspx#qat - Used for housing price data\n",
    "- Council for Community and Economic Research (C2ER) - Used through Rent Cafe to find cost of living data for Ohio\n",
    "- Rent Cafe Cost of Living Calculator (Website) https://www.rentcafe.com/cost-of-living-calculator/us/mn/ https://www.rentcafe.com/cost-of-living-calculator/us/oh/ - Used for finding out cost of living expenses for Ohio\n",
    "- Federal Reserve Bank of Minneapolis (Website) https://www.minneapolisfed.org/about-us/monetary-policy/inflation-calculator/consumer-price-index-1913- - Used for finding increase in wages in Minnesota over time (based on data from Bureau of Labor Statistics)\n",
    "\n",
    "### 2) Loading data into Pandas DataFrames and producing CSVs and images for analysis\n",
    "See the following Jupyter Notebooks:\n",
    "- census_data_api.ipynb\n",
    "- housing.ipynb\n",
    "- housing_api_pulls.ipynb\n",
    "- ohio_reverse.ipynb\n",
    "- wages_col_other_ipynb\n",
    "- oh_mn_col_compare.ipynb (Under Jenny folder)\n",
    "- oh_mn_compare.ipynb (Under Jenny folder)\n",
    "- cost_of_living.ipynb (Under Megan folder)\n"
   ]
  },
  {
   "cell_type": "markdown",
   "metadata": {},
   "source": [
    "## Additional Data and Limitations\n",
    "\n",
    "While working on the data loading and initial cleanup, we discovered that there were additional pieces of data needed that we did not have access to within budget. In order to get the appropriate data necessary, we utilitize the following techniques:\n",
    "\n",
    "1) Using the original information we had pulled for Ohio, we did not have cost of living information for Ohio. We had pulled Minnesota's data from DEED, but Ohio does not have the same datasets on their government websites. Instead, we used the Rent Cafe Cost of Living Index (which is based on the C2ER Cost of Living Index) to find how Ohio and Minnesota each compared to the national average, and from there, we were able to perform calculations to find Ohio's cost of living amounts. Due to this, the data is not exact, but the percentage is the same.\n",
    "\n",
    "2) Similarly to the problems we discovered with Ohio, we did not have data over time for Minnesota's cost of living, as DEED only had information available for 2021. In order to calculate this change, we used data acquired from the Federal Reserve Bank of Minneapolis website (which uses data from the Bureau of Labor Statistics) to find the price changes for cost of living over time. Due to this, the data is not exact, but the percentage is the same.\n",
    "\n",
    "3) When calculating cost of living, the C2ER Cost of Living Index, which is the gold-standard for cost of living comparisons, uses 6 factors: Housing, Utilities, Food, Healthcare, Transportation, and Goods & Services. DEED does not use Utilities in their calculations. Instead, they include childcare and additional other factors. In order to make the data as comparable as possible, we only used the five common factors of housing, food, healthcare, transportation, and other (representing goods & services), meaning that the data could actually be slightly different than if it actually included the full suite of factors."
   ]
  },
  {
   "cell_type": "markdown",
   "metadata": {},
   "source": [
    "## Analysis\n",
    "According to DEED, as well as our own checking on this matter, the average household size for the state of Minnesota is three (3). We will use this number going forward when discussing household totals, and we will also assume that each household has two working adults. There is one piece of comparison we use where only one working adult is considered.\n",
    "\n",
    "Using our information from DEED, we were able to find that, on average, a single working person cannot afford the expenses of a three-person household by themselves. A single worker’s wages will only cover roughly 80% of the total expenses of an average household, and that percentage only differs by up to 2% between the regions. In a two-worker household, this ratio fairs much better, as income will cover roughly 63% of expenses in this case.\n",
    "\n",
    "![Cost of Living Minnesota](Megan/output_data/yearly_expense.png)\n",
    "![Monthly Housing Minnesota](Megan/output_data/monthly_housing.png)\n",
    "![Hourly Wage Minnesota](Megan/output_data/hourly_wage.png)\n",
    "\n",
    "Shockingly, the economic development regions are very comparable. Central (7W) has the best income to expense ratio, followed closely by the Twin Cities region (11), while Southwest Central (6E) showed the worst ratio. However, since these ratios only differ by up to 2%, there is not a significant difference. Regardless of where you lived in Minnesota in 2021, your income to expense ratio was roughly the same as the rest of the state.\n",
    "\n",
    "![Income to Expense Ratio Per EDR](Megan/output_data/inc_exp_ratio1.png)\n",
    "![Wage vs Expense Minnesota](Megan/output_data/wage_v_expense.png)\n",
    "\n",
    "Over time, we are able to see that between 2011 and 2021, average household expenses increased 18.8% in total, while average wages increased by 50.58%. Housing price increases has been a point of concern in the US since the COVID-19 pandemic started, so we decided to look at the difference in housing prices between 2011 and 2021 to see if the changes in housing costs were different between the Twin Cities metro area and the rest of the state. We were able to find housing prices have skyrocketed since 2011 in both the Twin Cities region and Greater Minnesota. However, while Greater Minnesota had a 55.55% increase in HPI, the Twin Cities region had a 74% increase. Based on this information, we are able to conclude that there is no significant difference in where you live in Minnesota. There is only about a 2% difference between each EDR in terms of income to expense ratio, and that is already including the changes in housing prices.\n",
    "\n",
    "![Income Over Time](total_quarterly_wages.png)\n",
    "![Expenses Over Time](total_quarterly_expenses.png)\n",
    "![Housing Over Time](change_in_housing_prices.png)\n",
    "\n",
    "### How does this compare to Ohio?\n",
    "Based on Cost of Living Index data, we are able to see that Minnesota’s cost of living expenses are about 1% lower than the national average, whereas Ohio’s expenses are about 9% lower. The largest of these differences is in housing, in which Ohio is 23% better than the national average versus only 11% better for Minnesota. Ohio’s expenses were lower than the national average across the board. The median household income for Minnesota is about 25% higher than Ohio, and the median housing value for Minnesota is 58% higher than Ohio. Ohio has a much higher population than Minnesota (51.56% difference), and the total wages for both states show a 52.8% difference, which is on par with the population difference. With the lower expenses and the similar wages to Minnesota, Ohio would be a less costly state to live than Minnesota.\n",
    "\n",
    "![Ohio Cost of Living](Jenny/Output_data/col.png)\n",
    "![Ohio Household Income](Jenny/MHI.png)\n",
    "![Ohio Median Value](Jenny/MV.png)\n"
   ]
  },
  {
   "cell_type": "markdown",
   "metadata": {},
   "source": [
    "## Conclusion\n",
    "\n",
    "In conclusion, the economic development regions of Minnesota are very comparable to each other. With the only major difference between the Twin Cities region and the rest of the state being the rate at which housing prices are increasing, this data does not necessarily prove living in the Twin Cities region is better or worse than living in another part of Minnesota. One would need to continue research into other factors to determine any greater difference, such as occupations, recreation, and general availability of certain goods and services."
   ]
  }
 ],
 "metadata": {
  "kernelspec": {
   "display_name": "Python 3.6.13 ('pythondata')",
   "language": "python",
   "name": "python3"
  },
  "language_info": {
   "name": "python",
   "version": "3.6.13"
  },
  "orig_nbformat": 4,
  "vscode": {
   "interpreter": {
    "hash": "3421649ed3ecb83f8f47bcfb645f822f431520464080c87a3b007aee15b69674"
   }
  }
 },
 "nbformat": 4,
 "nbformat_minor": 2
}
