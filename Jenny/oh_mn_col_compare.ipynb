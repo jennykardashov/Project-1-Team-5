{
 "cells": [
  {
   "cell_type": "code",
   "execution_count": 2,
   "metadata": {},
   "outputs": [],
   "source": [
    "# Dependencies\n",
    "import pandas as pd\n",
    "import matplotlib.pyplot as plt\n",
    "import numpy as np"
   ]
  },
  {
   "cell_type": "code",
   "execution_count": 5,
   "metadata": {},
   "outputs": [],
   "source": [
    "# Path to data set in a variable\n",
    "data_file = \"../Datasets/ohio_mn_col_compare.csv\""
   ]
  },
  {
   "cell_type": "code",
   "execution_count": 6,
   "metadata": {},
   "outputs": [
    {
     "data": {
      "text/html": [
       "<div>\n",
       "<style scoped>\n",
       "    .dataframe tbody tr th:only-of-type {\n",
       "        vertical-align: middle;\n",
       "    }\n",
       "\n",
       "    .dataframe tbody tr th {\n",
       "        vertical-align: top;\n",
       "    }\n",
       "\n",
       "    .dataframe thead th {\n",
       "        text-align: right;\n",
       "    }\n",
       "</style>\n",
       "<table border=\"1\" class=\"dataframe\">\n",
       "  <thead>\n",
       "    <tr style=\"text-align: right;\">\n",
       "      <th></th>\n",
       "      <th>Type</th>\n",
       "      <th>National Average</th>\n",
       "      <th>MN</th>\n",
       "      <th>Ohio</th>\n",
       "    </tr>\n",
       "  </thead>\n",
       "  <tbody>\n",
       "    <tr>\n",
       "      <th>0</th>\n",
       "      <td>Food</td>\n",
       "      <td>904.526511</td>\n",
       "      <td>932.501558</td>\n",
       "      <td>895.481246</td>\n",
       "    </tr>\n",
       "    <tr>\n",
       "      <th>1</th>\n",
       "      <td>Health Care</td>\n",
       "      <td>481.364922</td>\n",
       "      <td>512.090343</td>\n",
       "      <td>466.923974</td>\n",
       "    </tr>\n",
       "    <tr>\n",
       "      <th>2</th>\n",
       "      <td>Housing</td>\n",
       "      <td>1083.586495</td>\n",
       "      <td>976.204050</td>\n",
       "      <td>834.361601</td>\n",
       "    </tr>\n",
       "    <tr>\n",
       "      <th>3</th>\n",
       "      <td>Transport</td>\n",
       "      <td>810.855911</td>\n",
       "      <td>794.956776</td>\n",
       "      <td>794.638793</td>\n",
       "    </tr>\n",
       "    <tr>\n",
       "      <th>4</th>\n",
       "      <td>Other</td>\n",
       "      <td>485.961939</td>\n",
       "      <td>522.539720</td>\n",
       "      <td>481.102320</td>\n",
       "    </tr>\n",
       "  </tbody>\n",
       "</table>\n",
       "</div>"
      ],
      "text/plain": [
       "          Type  National Average          MN        Ohio\n",
       "0         Food        904.526511  932.501558  895.481246\n",
       "1  Health Care        481.364922  512.090343  466.923974\n",
       "2      Housing       1083.586495  976.204050  834.361601\n",
       "3    Transport        810.855911  794.956776  794.638793\n",
       "4        Other        485.961939  522.539720  481.102320"
      ]
     },
     "execution_count": 6,
     "metadata": {},
     "output_type": "execute_result"
    }
   ],
   "source": [
    "# Use Pandas to read data\n",
    "data_file_df = pd.read_csv(data_file)\n",
    "data_file_df.head()"
   ]
  },
  {
   "cell_type": "code",
   "execution_count": 7,
   "metadata": {},
   "outputs": [
    {
     "data": {
      "text/html": [
       "<div>\n",
       "<style scoped>\n",
       "    .dataframe tbody tr th:only-of-type {\n",
       "        vertical-align: middle;\n",
       "    }\n",
       "\n",
       "    .dataframe tbody tr th {\n",
       "        vertical-align: top;\n",
       "    }\n",
       "\n",
       "    .dataframe thead th {\n",
       "        text-align: right;\n",
       "    }\n",
       "</style>\n",
       "<table border=\"1\" class=\"dataframe\">\n",
       "  <thead>\n",
       "    <tr style=\"text-align: right;\">\n",
       "      <th></th>\n",
       "      <th>Type</th>\n",
       "      <th>National Average</th>\n",
       "      <th>Minnesota</th>\n",
       "      <th>Ohio</th>\n",
       "    </tr>\n",
       "  </thead>\n",
       "  <tbody>\n",
       "    <tr>\n",
       "      <th>0</th>\n",
       "      <td>Food</td>\n",
       "      <td>904.526511</td>\n",
       "      <td>932.501558</td>\n",
       "      <td>895.481246</td>\n",
       "    </tr>\n",
       "    <tr>\n",
       "      <th>1</th>\n",
       "      <td>Health Care</td>\n",
       "      <td>481.364922</td>\n",
       "      <td>512.090343</td>\n",
       "      <td>466.923974</td>\n",
       "    </tr>\n",
       "    <tr>\n",
       "      <th>2</th>\n",
       "      <td>Housing</td>\n",
       "      <td>1083.586495</td>\n",
       "      <td>976.204050</td>\n",
       "      <td>834.361601</td>\n",
       "    </tr>\n",
       "    <tr>\n",
       "      <th>3</th>\n",
       "      <td>Transport</td>\n",
       "      <td>810.855911</td>\n",
       "      <td>794.956776</td>\n",
       "      <td>794.638793</td>\n",
       "    </tr>\n",
       "    <tr>\n",
       "      <th>4</th>\n",
       "      <td>Other</td>\n",
       "      <td>485.961939</td>\n",
       "      <td>522.539720</td>\n",
       "      <td>481.102320</td>\n",
       "    </tr>\n",
       "  </tbody>\n",
       "</table>\n",
       "</div>"
      ],
      "text/plain": [
       "          Type  National Average   Minnesota        Ohio\n",
       "0         Food        904.526511  932.501558  895.481246\n",
       "1  Health Care        481.364922  512.090343  466.923974\n",
       "2      Housing       1083.586495  976.204050  834.361601\n",
       "3    Transport        810.855911  794.956776  794.638793\n",
       "4        Other        485.961939  522.539720  481.102320"
      ]
     },
     "execution_count": 7,
     "metadata": {},
     "output_type": "execute_result"
    }
   ],
   "source": [
    "# Using .rename(columns={}) in order to rename columns\n",
    "renamed_df = data_file_df.rename(columns={\"MN\":\"Minnesota\"})\n",
    "renamed_df.head()"
   ]
  },
  {
   "cell_type": "code",
   "execution_count": 85,
   "metadata": {},
   "outputs": [
    {
     "data": {
      "text/html": [
       "<div>\n",
       "<style scoped>\n",
       "    .dataframe tbody tr th:only-of-type {\n",
       "        vertical-align: middle;\n",
       "    }\n",
       "\n",
       "    .dataframe tbody tr th {\n",
       "        vertical-align: top;\n",
       "    }\n",
       "\n",
       "    .dataframe thead th {\n",
       "        text-align: right;\n",
       "    }\n",
       "</style>\n",
       "<table border=\"1\" class=\"dataframe\">\n",
       "  <thead>\n",
       "    <tr style=\"text-align: right;\">\n",
       "      <th></th>\n",
       "      <th>Type</th>\n",
       "      <th>National Average</th>\n",
       "      <th>MN</th>\n",
       "      <th>Ohio</th>\n",
       "    </tr>\n",
       "  </thead>\n",
       "  <tbody>\n",
       "    <tr>\n",
       "      <th>0</th>\n",
       "      <td>Food</td>\n",
       "      <td>$904.53</td>\n",
       "      <td>$932.50</td>\n",
       "      <td>$895.48</td>\n",
       "    </tr>\n",
       "    <tr>\n",
       "      <th>1</th>\n",
       "      <td>Health Care</td>\n",
       "      <td>$481.36</td>\n",
       "      <td>$512.09</td>\n",
       "      <td>$466.92</td>\n",
       "    </tr>\n",
       "    <tr>\n",
       "      <th>2</th>\n",
       "      <td>Housing</td>\n",
       "      <td>$1083.59</td>\n",
       "      <td>$976.20</td>\n",
       "      <td>$834.36</td>\n",
       "    </tr>\n",
       "    <tr>\n",
       "      <th>3</th>\n",
       "      <td>Transport</td>\n",
       "      <td>$810.86</td>\n",
       "      <td>$794.96</td>\n",
       "      <td>$794.64</td>\n",
       "    </tr>\n",
       "    <tr>\n",
       "      <th>4</th>\n",
       "      <td>Other</td>\n",
       "      <td>$485.96</td>\n",
       "      <td>$522.54</td>\n",
       "      <td>$481.10</td>\n",
       "    </tr>\n",
       "  </tbody>\n",
       "</table>\n",
       "</div>"
      ],
      "text/plain": [
       "          Type National Average       MN     Ohio\n",
       "0         Food          $904.53  $932.50  $895.48\n",
       "1  Health Care          $481.36  $512.09  $466.92\n",
       "2      Housing         $1083.59  $976.20  $834.36\n",
       "3    Transport          $810.86  $794.96  $794.64\n",
       "4        Other          $485.96  $522.54  $481.10"
      ]
     },
     "execution_count": 85,
     "metadata": {},
     "output_type": "execute_result"
    }
   ],
   "source": [
    "# # # Use Map to format all the columns\n",
    "# data_file_df[\"MN\"] = data_file_df[\"MN\"].map(\"${:.2f}\".format)\n",
    "# data_file_df[\"Ohio\"] = data_file_df[\"Ohio\"].map(\"${:.2f}\".format)\n",
    "# data_file_df[\"National Average\"] = data_file_df[\"National Average\"].map(\"${:.2f}\".format)\n",
    "# data_file_df\n"
   ]
  },
  {
   "cell_type": "code",
   "execution_count": 8,
   "metadata": {},
   "outputs": [
    {
     "data": {
      "text/plain": [
       "Type                 object\n",
       "National Average    float64\n",
       "MN                  float64\n",
       "Ohio                float64\n",
       "dtype: object"
      ]
     },
     "execution_count": 8,
     "metadata": {},
     "output_type": "execute_result"
    }
   ],
   "source": [
    "data_file_df.dtypes"
   ]
  },
  {
   "cell_type": "code",
   "execution_count": 9,
   "metadata": {},
   "outputs": [],
   "source": [
    "data_file_df[\"National Average\"]=data_file_df[\"National Average\"].astype(float)\n",
    "data_file_df[\"MN\"]=data_file_df[\"MN\"].astype(float)\n",
    "data_file_df[\"Ohio\"]=data_file_df[\"Ohio\"].astype(float)"
   ]
  },
  {
   "cell_type": "code",
   "execution_count": 10,
   "metadata": {},
   "outputs": [
    {
     "data": {
      "image/png": "[encoded data removed]",
      "text/plain": [
       "<Figure size 720x360 with 1 Axes>"
      ]
     },
     "metadata": {
      "needs_background": "light"
     },
     "output_type": "display_data"
    }
   ],
   "source": [
    "x_axis = np.arange(len(renamed_df))\n",
    "\n",
    "multi_plot = renamed_df.plot(kind=\"bar\", figsize=(10,5))\n",
    "multi_plot.set_xticklabels(renamed_df[\"Type\"], rotation=45)\n",
    "plt.title(\"Cost of Living\",fontsize=15)\n",
    "plt.savefig(\"../Jenny/Output_data/col.png\")\n",
    "\n",
    "plt.show()\n"
   ]
  },
  {
   "cell_type": "code",
   "execution_count": null,
   "metadata": {},
   "outputs": [],
   "source": []
  }
 ],
 "metadata": {
  "kernelspec": {
   "display_name": "Python 3.6.13 ('pythondata1')",
   "language": "python",
   "name": "python3"
  },
  "language_info": {
   "codemirror_mode": {
    "name": "ipython",
    "version": 3
   },
   "file_extension": ".py",
   "mimetype": "text/x-python",
   "name": "python",
   "nbconvert_exporter": "python",
   "pygments_lexer": "ipython3",
   "version": "3.6.13"
  },
  "orig_nbformat": 4,
  "vscode": {
   "interpreter": {
    "hash": "3a84f8baf2525e2e47b8e602c5638dd76c52f6d12bee460e4831c78c7f257067"
   }
  }
 },
 "nbformat": 4,
 "nbformat_minor": 2
}
